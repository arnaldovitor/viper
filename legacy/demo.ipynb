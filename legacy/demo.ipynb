{
 "cells": [
  {
   "attachments": {},
   "cell_type": "markdown",
   "metadata": {},
   "source": [
    "# Imports"
   ]
  },
  {
   "cell_type": "code",
   "execution_count": null,
   "metadata": {},
   "outputs": [],
   "source": [
    "import pandas as pd\n",
    "import tensorflow as tf\n",
    "\n",
    "from Data import Data\n",
    "from TrainingSection import ClassificationTrainingSection\n",
    "from TestSection import ClassificationTestSection\n",
    "from FramewiseModels.VGG import VGG\n",
    "from Visualizer import GradCAM\n",
    "from Annotation import SequentialAnnotation"
   ]
  },
  {
   "attachments": {},
   "cell_type": "markdown",
   "metadata": {},
   "source": [
    "# Setup"
   ]
  },
  {
   "cell_type": "code",
   "execution_count": null,
   "metadata": {},
   "outputs": [],
   "source": [
    "# Path to config file.\n",
    "config_file = 'config.ini'\n",
    "\n",
    "# Load dataset.\n",
    "data = Data(config_file=config_file)\n",
    "data.load(dataset='aie')"
   ]
  },
  {
   "attachments": {},
   "cell_type": "markdown",
   "metadata": {},
   "source": [
    "# Custom annotation"
   ]
  },
  {
   "cell_type": "code",
   "execution_count": null,
   "metadata": {},
   "outputs": [],
   "source": [
    "sa = SequentialAnnotation(config_file=config_file,\n",
    "                         dataset='aie',\n",
    "                         file_name='testing',\n",
    "                         inter_sequence_skip=12,\n",
    "                         intra_sequence_skip=1,\n",
    "                         sequence_size=64)\n",
    "sa.run()"
   ]
  },
  {
   "attachments": {},
   "cell_type": "markdown",
   "metadata": {},
   "source": [
    "# Training, validation and testing partitions"
   ]
  },
  {
   "cell_type": "code",
   "execution_count": null,
   "metadata": {},
   "outputs": [],
   "source": [
    "hash_split = data.new_split(names=['train', 'val', 'test'], props=[0.5, 0.25, 0.25])\n",
    "split = data.load_split(hash=hash_split)"
   ]
  },
  {
   "attachments": {},
   "cell_type": "markdown",
   "metadata": {},
   "source": [
    "# DataGenerators"
   ]
  },
  {
   "cell_type": "code",
   "execution_count": null,
   "metadata": {},
   "outputs": [],
   "source": [
    "\n",
    "# Train DataGenerator.\n",
    "train = data.load_data_gen(split=split,\n",
    "                         partition='train',\n",
    "                         category='framewise_classification',\n",
    "                         annotation='video_level_annotation',\n",
    "                         classes=['assault', 'non-assault'],\n",
    "                         modes=['frame_rgb'],\n",
    "                         inter_sequence_skip=10,\n",
    "                         target_size=(224, 224),\n",
    "                         batch_size=8)\n",
    "\n",
    "# Validation DataGenerator.\n",
    "val = data.load_data_gen(split=split,\n",
    "                         partition='val',\n",
    "                         category='framewise_classification',\n",
    "                         annotation='video_level_annotation',\n",
    "                         classes=['assault', 'non-assault'],\n",
    "                         modes=['frame_rgb'],\n",
    "                         inter_sequence_skip=10,\n",
    "                         target_size=(224, 224),\n",
    "                         batch_size=8)\n",
    "\n",
    "# Test DataGenerator.\n",
    "test = data.load_data_gen(split=split,\n",
    "                         partition='test',\n",
    "                         category='framewise_classification',\n",
    "                         annotation='video_level_annotation',\n",
    "                         classes=['assault', 'non-assault'],\n",
    "                         modes=['frame_rgb'],\n",
    "                         inter_sequence_skip=10,\n",
    "                         target_size=(224, 224),\n",
    "                         batch_size=8)"
   ]
  },
  {
   "attachments": {},
   "cell_type": "markdown",
   "metadata": {},
   "source": [
    "# Train"
   ]
  },
  {
   "cell_type": "code",
   "execution_count": null,
   "metadata": {},
   "outputs": [],
   "source": [
    "# Model architeture.\n",
    "model = VGG(input_shape=(224, 224, 3), n_classes=2)\n",
    "\n",
    "# Train model.\n",
    "exp = ClassificationTrainingSection(config_file=config_file)\n",
    "exp.set_train_data(train)\n",
    "exp.set_validation_data(val)\n",
    "exp.set_model(model)\n",
    "\n",
    "exp.run(optimizer=tf.keras.optimizers.Adam(learning_rate=1e-3),\n",
    "        loss=tf.keras.losses.CategoricalCrossentropy(),\n",
    "        train_acc=tf.keras.metrics.CategoricalAccuracy(),\n",
    "        validation_acc=tf.keras.metrics.CategoricalAccuracy(),\n",
    "        epochs=400)"
   ]
  },
  {
   "attachments": {},
   "cell_type": "markdown",
   "metadata": {},
   "source": [
    "# Test"
   ]
  },
  {
   "cell_type": "code",
   "execution_count": null,
   "metadata": {},
   "outputs": [],
   "source": [
    "ts = ClassificationTestSection(config_file=config_file)\n",
    "ts.set_testing_data(test)\n",
    "ts.set_model(hash='84670223739194194574851698913430905233') # Model hash.\n",
    "ts.run(name='all',\n",
    "       loss=tf.keras.losses.CategoricalCrossentropy(),\n",
    "       test_acc=tf.keras.metrics.CategoricalAccuracy())\n",
    "\n",
    "ts.accuracy_by_vote('framewise_vgg_84670223739194194574851698913430905233_all.json')"
   ]
  },
  {
   "attachments": {},
   "cell_type": "markdown",
   "metadata": {},
   "source": [
    "# Grad-CAM"
   ]
  },
  {
   "cell_type": "code",
   "execution_count": null,
   "metadata": {},
   "outputs": [],
   "source": [
    "gd = GradCAM(config_file=config_file)\n",
    "gd.set_model(hash='84670223739194194574851698913430905233') # Model hash.\n",
    "gd.set_layer_name('conv2d_14')\n",
    "gd.show_sample(datagen=test, name='fi471_xvid.avi', frame_idx=3)"
   ]
  }
 ],
 "metadata": {
  "kernelspec": {
   "display_name": "Python 3",
   "language": "python",
   "name": "python3"
  },
  "language_info": {
   "name": "python",
   "version": "3.10.6 (main, Nov 14 2022, 16:10:14) [GCC 11.3.0]"
  },
  "orig_nbformat": 4,
  "vscode": {
   "interpreter": {
    "hash": "916dbcbb3f70747c44a77c7bcd40155683ae19c65e1c03b4aa3499c5328201f1"
   }
  }
 },
 "nbformat": 4,
 "nbformat_minor": 2
}
